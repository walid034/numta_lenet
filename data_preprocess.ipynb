{
 "cells": [
  {
   "cell_type": "code",
   "execution_count": null,
   "metadata": {},
   "outputs": [],
   "source": [
    "import numpy as np\n",
    "import pandas as pd\n",
    "import cv2"
   ]
  },
  {
   "cell_type": "code",
   "execution_count": null,
   "metadata": {},
   "outputs": [],
   "source": [
    "df1 = pd.read_csv(\"training-a.csv\")\n",
    "df2 = pd.read_csv(\"training-b.csv\")\n",
    "df3 = pd.read_csv(\"training-c.csv\")\n",
    "df4 = pd.read_csv(\"training-d.csv\")\n",
    "df5 = pd.read_csv(\"training-e.csv\")"
   ]
  },
  {
   "cell_type": "code",
   "execution_count": null,
   "metadata": {},
   "outputs": [],
   "source": [
    "file1 = df1.loc[:,[\"filename\", \"digit\"]]\n",
    "file2 = df2.loc[:,[\"filename\", \"digit\"]]\n",
    "file3 = df3.loc[:,[\"filename\", \"digit\"]]\n",
    "file4 = df4.loc[:,[\"filename\", \"digit\"]]\n",
    "file5 = df5.loc[:,[\"filename\", \"digit\"]]"
   ]
  },
  {
   "cell_type": "code",
   "execution_count": null,
   "metadata": {},
   "outputs": [],
   "source": [
    "x = []\n",
    "y = []\n",
    "c = 0\n",
    "\n",
    "for i, j in zip(file1[\"filename\"],file1[\"digit\"]):\n",
    "    img = cv2.imread(\"./training-a/\"+str(i), 0)\n",
    "    img = cv2.resize(img, (32,32), interpolation = cv2.INTER_AREA)\n",
    "    x.append(img)\n",
    "    y.append(j)\n",
    "    c+=1\n",
    "    \n",
    "for i, j in zip(file2[\"filename\"],file2[\"digit\"]):\n",
    "    img = cv2.imread(\"./training-b/\"+str(i), 0)\n",
    "    img = cv2.resize(img, (32,32), interpolation = cv2.INTER_AREA)\n",
    "    x.append(img)\n",
    "    y.append(j)\n",
    "    c+=1\n",
    "    \n",
    "for i, j in zip(file3[\"filename\"],file3[\"digit\"]):\n",
    "    img = cv2.imread(\"./training-c/\"+str(i), 0)\n",
    "    img = cv2.resize(img, (32,32), interpolation = cv2.INTER_AREA)\n",
    "    x.append(img)\n",
    "    y.append(j)\n",
    "    c+=1\n",
    "    \n",
    "for i, j in zip(file4[\"filename\"],file4[\"digit\"]):\n",
    "    img = cv2.imread(\"./training-d/\"+str(i), 0)\n",
    "    img = cv2.resize(img, (32,32), interpolation = cv2.INTER_AREA)\n",
    "    x.append(img)\n",
    "    y.append(j)\n",
    "    c+=1\n",
    "    \n",
    "for i, j in zip(file5[\"filename\"],file5[\"digit\"]):\n",
    "    img = cv2.imread(\"./training-e/\"+str(i), 0)\n",
    "    img = cv2.resize(img, (32,32), interpolation = cv2.INTER_AREA)\n",
    "    x.append(img)\n",
    "    y.append(j)\n",
    "    c+=1"
   ]
  },
  {
   "cell_type": "code",
   "execution_count": null,
   "metadata": {},
   "outputs": [],
   "source": [
    "X = np.array(x)"
   ]
  },
  {
   "cell_type": "code",
   "execution_count": null,
   "metadata": {},
   "outputs": [],
   "source": [
    "X.shape"
   ]
  },
  {
   "cell_type": "code",
   "execution_count": null,
   "metadata": {},
   "outputs": [],
   "source": [
    "y = np.array(y)"
   ]
  },
  {
   "cell_type": "code",
   "execution_count": null,
   "metadata": {},
   "outputs": [],
   "source": [
    "X = np.reshape(X, (72045, 32, 32, 1))"
   ]
  },
  {
   "cell_type": "code",
   "execution_count": null,
   "metadata": {},
   "outputs": [],
   "source": [
    "y=pd.get_dummies(y)"
   ]
  },
  {
   "cell_type": "code",
   "execution_count": null,
   "metadata": {},
   "outputs": [],
   "source": [
    "y.shape"
   ]
  },
  {
   "cell_type": "code",
   "execution_count": null,
   "metadata": {},
   "outputs": [],
   "source": [
    "np.save(\"X_lenet.npy\", X)\n",
    "np.save(\"y_lenet.npy\", y)"
   ]
  }
 ],
 "metadata": {
  "kernelspec": {
   "display_name": "Python 3",
   "language": "python",
   "name": "python3"
  },
  "language_info": {
   "codemirror_mode": {
    "name": "ipython",
    "version": 3
   },
   "file_extension": ".py",
   "mimetype": "text/x-python",
   "name": "python",
   "nbconvert_exporter": "python",
   "pygments_lexer": "ipython3",
   "version": "3.6.7"
  }
 },
 "nbformat": 4,
 "nbformat_minor": 2
}
