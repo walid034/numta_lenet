{
  "nbformat": 4,
  "nbformat_minor": 0,
  "metadata": {
    "colab": {
      "name": "numta_train.ipynb",
      "version": "0.3.2",
      "provenance": [],
      "collapsed_sections": []
    },
    "kernelspec": {
      "name": "python3",
      "display_name": "Python 3"
    },
    "accelerator": "GPU"
  },
  "cells": [
    {
      "metadata": {
        "id": "0RgSd2nuITdq",
        "colab_type": "code",
        "outputId": "358b73e2-d9b5-4e92-c63e-9d483f75a5a2",
        "colab": {
          "base_uri": "https://localhost:8080/",
          "height": 122
        }
      },
      "cell_type": "code",
      "source": [
        "import numpy as np\n",
        "\n",
        "#Mounting GD for importing data to colab. Change Runtime to \"GPU\"\n",
        "from google.colab import drive\n",
        "drive.mount('/content/gdrive')"
      ],
      "execution_count": 1,
      "outputs": [
        {
          "output_type": "stream",
          "text": [
            "Go to this URL in a browser: https://accounts.google.com/o/oauth2/auth?client_id=947318989803-6bn6qk8qdgf4n4g3pfee6491hc0brc4i.apps.googleusercontent.com&redirect_uri=urn%3Aietf%3Awg%3Aoauth%3A2.0%3Aoob&scope=email%20https%3A%2F%2Fwww.googleapis.com%2Fauth%2Fdocs.test%20https%3A%2F%2Fwww.googleapis.com%2Fauth%2Fdrive%20https%3A%2F%2Fwww.googleapis.com%2Fauth%2Fdrive.photos.readonly%20https%3A%2F%2Fwww.googleapis.com%2Fauth%2Fpeopleapi.readonly&response_type=code\n",
            "\n",
            "Enter your authorization code:\n",
            "··········\n",
            "Mounted at /content/gdrive\n"
          ],
          "name": "stdout"
        }
      ]
    },
    {
      "metadata": {
        "id": "sgkLQGYmJjun",
        "colab_type": "code",
        "colab": {}
      },
      "cell_type": "code",
      "source": [
        "X = np.load('/content/gdrive/My Drive/X_lenetv1.npy', mmap_mode='r')\n",
        "y = np.load('/content/gdrive/My Drive/y_lenetv1.npy', mmap_mode='r')"
      ],
      "execution_count": 0,
      "outputs": []
    },
    {
      "metadata": {
        "id": "mBd9vqAqL0d9",
        "colab_type": "code",
        "outputId": "7815fcce-50a0-424d-c7a0-ae115b5e74ff",
        "colab": {
          "base_uri": "https://localhost:8080/",
          "height": 34
        }
      },
      "cell_type": "code",
      "source": [
        "X.shape"
      ],
      "execution_count": 3,
      "outputs": [
        {
          "output_type": "execute_result",
          "data": {
            "text/plain": [
              "(72045, 32, 32, 1)"
            ]
          },
          "metadata": {
            "tags": []
          },
          "execution_count": 3
        }
      ]
    },
    {
      "metadata": {
        "id": "GLmU2ogNL1kc",
        "colab_type": "code",
        "colab": {}
      },
      "cell_type": "code",
      "source": [
        "X = X/255"
      ],
      "execution_count": 0,
      "outputs": []
    },
    {
      "metadata": {
        "id": "6rpTFZdI68pW",
        "colab_type": "code",
        "colab": {
          "base_uri": "https://localhost:8080/",
          "height": 5236
        },
        "outputId": "ea6a5591-1142-4c7b-8f2a-c89d2920d219"
      },
      "cell_type": "code",
      "source": [
        "X"
      ],
      "execution_count": 8,
      "outputs": [
        {
          "output_type": "execute_result",
          "data": {
            "text/plain": [
              "memmap([[[[208],\n",
              "          [209],\n",
              "          [209],\n",
              "          ...,\n",
              "          [209],\n",
              "          [209],\n",
              "          [209]],\n",
              "\n",
              "         [[210],\n",
              "          [209],\n",
              "          [210],\n",
              "          ...,\n",
              "          [209],\n",
              "          [209],\n",
              "          [210]],\n",
              "\n",
              "         [[210],\n",
              "          [210],\n",
              "          [209],\n",
              "          ...,\n",
              "          [207],\n",
              "          [209],\n",
              "          [208]],\n",
              "\n",
              "         ...,\n",
              "\n",
              "         [[209],\n",
              "          [209],\n",
              "          [208],\n",
              "          ...,\n",
              "          [210],\n",
              "          [209],\n",
              "          [210]],\n",
              "\n",
              "         [[209],\n",
              "          [209],\n",
              "          [209],\n",
              "          ...,\n",
              "          [210],\n",
              "          [210],\n",
              "          [209]],\n",
              "\n",
              "         [[209],\n",
              "          [209],\n",
              "          [210],\n",
              "          ...,\n",
              "          [209],\n",
              "          [209],\n",
              "          [210]]],\n",
              "\n",
              "\n",
              "        [[[225],\n",
              "          [225],\n",
              "          [225],\n",
              "          ...,\n",
              "          [221],\n",
              "          [221],\n",
              "          [220]],\n",
              "\n",
              "         [[225],\n",
              "          [225],\n",
              "          [225],\n",
              "          ...,\n",
              "          [221],\n",
              "          [222],\n",
              "          [221]],\n",
              "\n",
              "         [[225],\n",
              "          [225],\n",
              "          [224],\n",
              "          ...,\n",
              "          [221],\n",
              "          [221],\n",
              "          [220]],\n",
              "\n",
              "         ...,\n",
              "\n",
              "         [[225],\n",
              "          [224],\n",
              "          [224],\n",
              "          ...,\n",
              "          [220],\n",
              "          [218],\n",
              "          [218]],\n",
              "\n",
              "         [[221],\n",
              "          [222],\n",
              "          [223],\n",
              "          ...,\n",
              "          [220],\n",
              "          [220],\n",
              "          [219]],\n",
              "\n",
              "         [[224],\n",
              "          [224],\n",
              "          [224],\n",
              "          ...,\n",
              "          [220],\n",
              "          [219],\n",
              "          [218]]],\n",
              "\n",
              "\n",
              "        [[[225],\n",
              "          [225],\n",
              "          [225],\n",
              "          ...,\n",
              "          [225],\n",
              "          [225],\n",
              "          [225]],\n",
              "\n",
              "         [[225],\n",
              "          [226],\n",
              "          [227],\n",
              "          ...,\n",
              "          [224],\n",
              "          [224],\n",
              "          [224]],\n",
              "\n",
              "         [[226],\n",
              "          [225],\n",
              "          [226],\n",
              "          ...,\n",
              "          [226],\n",
              "          [225],\n",
              "          [225]],\n",
              "\n",
              "         ...,\n",
              "\n",
              "         [[224],\n",
              "          [224],\n",
              "          [224],\n",
              "          ...,\n",
              "          [223],\n",
              "          [223],\n",
              "          [225]],\n",
              "\n",
              "         [[224],\n",
              "          [225],\n",
              "          [225],\n",
              "          ...,\n",
              "          [224],\n",
              "          [225],\n",
              "          [223]],\n",
              "\n",
              "         [[223],\n",
              "          [224],\n",
              "          [223],\n",
              "          ...,\n",
              "          [224],\n",
              "          [223],\n",
              "          [224]]],\n",
              "\n",
              "\n",
              "        ...,\n",
              "\n",
              "\n",
              "        [[[  0],\n",
              "          [  0],\n",
              "          [  0],\n",
              "          ...,\n",
              "          [  0],\n",
              "          [  0],\n",
              "          [  0]],\n",
              "\n",
              "         [[  0],\n",
              "          [  0],\n",
              "          [  0],\n",
              "          ...,\n",
              "          [  0],\n",
              "          [  0],\n",
              "          [  0]],\n",
              "\n",
              "         [[  0],\n",
              "          [  0],\n",
              "          [  0],\n",
              "          ...,\n",
              "          [  0],\n",
              "          [  0],\n",
              "          [  0]],\n",
              "\n",
              "         ...,\n",
              "\n",
              "         [[  0],\n",
              "          [  0],\n",
              "          [  0],\n",
              "          ...,\n",
              "          [ 51],\n",
              "          [  0],\n",
              "          [  0]],\n",
              "\n",
              "         [[  0],\n",
              "          [  0],\n",
              "          [  0],\n",
              "          ...,\n",
              "          [  0],\n",
              "          [  0],\n",
              "          [  0]],\n",
              "\n",
              "         [[  0],\n",
              "          [  0],\n",
              "          [  0],\n",
              "          ...,\n",
              "          [  0],\n",
              "          [  0],\n",
              "          [  0]]],\n",
              "\n",
              "\n",
              "        [[[  0],\n",
              "          [  0],\n",
              "          [  0],\n",
              "          ...,\n",
              "          [  0],\n",
              "          [  0],\n",
              "          [  0]],\n",
              "\n",
              "         [[  0],\n",
              "          [  0],\n",
              "          [  0],\n",
              "          ...,\n",
              "          [  0],\n",
              "          [  0],\n",
              "          [  0]],\n",
              "\n",
              "         [[  0],\n",
              "          [  0],\n",
              "          [  0],\n",
              "          ...,\n",
              "          [  0],\n",
              "          [  0],\n",
              "          [  0]],\n",
              "\n",
              "         ...,\n",
              "\n",
              "         [[  0],\n",
              "          [  0],\n",
              "          [  0],\n",
              "          ...,\n",
              "          [  0],\n",
              "          [  0],\n",
              "          [  0]],\n",
              "\n",
              "         [[  0],\n",
              "          [  0],\n",
              "          [  0],\n",
              "          ...,\n",
              "          [  0],\n",
              "          [  0],\n",
              "          [  0]],\n",
              "\n",
              "         [[  0],\n",
              "          [  0],\n",
              "          [  0],\n",
              "          ...,\n",
              "          [  0],\n",
              "          [  0],\n",
              "          [  0]]],\n",
              "\n",
              "\n",
              "        [[[  0],\n",
              "          [  0],\n",
              "          [  0],\n",
              "          ...,\n",
              "          [  0],\n",
              "          [  0],\n",
              "          [  0]],\n",
              "\n",
              "         [[  0],\n",
              "          [  0],\n",
              "          [  0],\n",
              "          ...,\n",
              "          [  0],\n",
              "          [  0],\n",
              "          [  0]],\n",
              "\n",
              "         [[  0],\n",
              "          [  0],\n",
              "          [  0],\n",
              "          ...,\n",
              "          [  0],\n",
              "          [  0],\n",
              "          [  0]],\n",
              "\n",
              "         ...,\n",
              "\n",
              "         [[  0],\n",
              "          [  0],\n",
              "          [  0],\n",
              "          ...,\n",
              "          [  0],\n",
              "          [  0],\n",
              "          [  0]],\n",
              "\n",
              "         [[  0],\n",
              "          [  0],\n",
              "          [  0],\n",
              "          ...,\n",
              "          [  0],\n",
              "          [  0],\n",
              "          [  0]],\n",
              "\n",
              "         [[  0],\n",
              "          [  0],\n",
              "          [  0],\n",
              "          ...,\n",
              "          [  0],\n",
              "          [  0],\n",
              "          [  0]]]], dtype=uint8)"
            ]
          },
          "metadata": {
            "tags": []
          },
          "execution_count": 8
        }
      ]
    },
    {
      "metadata": {
        "id": "i5ZGK9ZzqqUX",
        "colab_type": "code",
        "outputId": "4c19aa1f-0f6a-4673-9f07-0894fefefedb",
        "colab": {
          "base_uri": "https://localhost:8080/",
          "height": 34
        }
      },
      "cell_type": "code",
      "source": [
        "from keras.models import Sequential\n",
        "from keras.layers import Conv2D, MaxPooling2D, Flatten, Dense, Dropout"
      ],
      "execution_count": 5,
      "outputs": [
        {
          "output_type": "stream",
          "text": [
            "Using TensorFlow backend.\n"
          ],
          "name": "stderr"
        }
      ]
    },
    {
      "metadata": {
        "id": "6_mu7qoNr34P",
        "colab_type": "code",
        "colab": {}
      },
      "cell_type": "code",
      "source": [
        "model = Sequential()\n",
        "model.add(Conv2D(6, (5,5), input_shape = (32,32,1), activation = 'relu'))\n",
        "model.add(MaxPooling2D(pool_size = (2,2)))\n",
        "#model.add(Dropout(0.04))\n",
        "\n",
        "model.add(Flatten())\n",
        "\n",
        "model.add(Dense(units = 120, activation = 'relu'))\n",
        "model.add(Dense(units = 84, activation = 'relu'))\n",
        "\n",
        "model.add(Dense(units = 10, activation = 'softmax'))\n",
        "\n",
        "model.compile(optimizer = 'adam', loss = 'categorical_crossentropy', metrics = ['accuracy'])"
      ],
      "execution_count": 0,
      "outputs": []
    },
    {
      "metadata": {
        "id": "oNwAjJiHvDmY",
        "colab_type": "code",
        "colab": {}
      },
      "cell_type": "code",
      "source": [
        "from sklearn.model_selection import train_test_split\n",
        "\n",
        "X_train, X_test, y_train, y_test = train_test_split(X, y, test_size = 0.2, random_state = 0)"
      ],
      "execution_count": 0,
      "outputs": []
    },
    {
      "metadata": {
        "id": "5xypsatzvosZ",
        "colab_type": "code",
        "outputId": "4c99d426-dff4-44d7-e215-9d6a4c98a9c7",
        "colab": {
          "base_uri": "https://localhost:8080/",
          "height": 391
        }
      },
      "cell_type": "code",
      "source": [
        "model.fit(X_train, y_train, validation_data = (X_test, y_test), epochs = 10)"
      ],
      "execution_count": 9,
      "outputs": [
        {
          "output_type": "stream",
          "text": [
            "Train on 57636 samples, validate on 14409 samples\n",
            "Epoch 1/10\n",
            "57636/57636 [==============================] - 18s 312us/step - loss: 0.9886 - acc: 0.6758 - val_loss: 0.5065 - val_acc: 0.8407\n",
            "Epoch 2/10\n",
            "57636/57636 [==============================] - 14s 245us/step - loss: 0.3762 - acc: 0.8754 - val_loss: 0.3247 - val_acc: 0.8970\n",
            "Epoch 3/10\n",
            "57636/57636 [==============================] - 14s 246us/step - loss: 0.2558 - acc: 0.9147 - val_loss: 0.2982 - val_acc: 0.9035\n",
            "Epoch 4/10\n",
            "57636/57636 [==============================] - 14s 246us/step - loss: 0.1975 - acc: 0.9348 - val_loss: 0.2778 - val_acc: 0.9167\n",
            "Epoch 5/10\n",
            "57636/57636 [==============================] - 14s 244us/step - loss: 0.1671 - acc: 0.9441 - val_loss: 0.2996 - val_acc: 0.9110\n",
            "Epoch 6/10\n",
            "57636/57636 [==============================] - 14s 248us/step - loss: 0.1420 - acc: 0.9523 - val_loss: 0.2643 - val_acc: 0.9219\n",
            "Epoch 7/10\n",
            "57636/57636 [==============================] - 14s 244us/step - loss: 0.1196 - acc: 0.9605 - val_loss: 0.2499 - val_acc: 0.9332\n",
            "Epoch 8/10\n",
            "57636/57636 [==============================] - 14s 242us/step - loss: 0.1084 - acc: 0.9643 - val_loss: 0.2647 - val_acc: 0.9313\n",
            "Epoch 9/10\n",
            "57636/57636 [==============================] - 14s 243us/step - loss: 0.0945 - acc: 0.9681 - val_loss: 0.2637 - val_acc: 0.9318\n",
            "Epoch 10/10\n",
            "57636/57636 [==============================] - 14s 245us/step - loss: 0.0857 - acc: 0.9712 - val_loss: 0.2730 - val_acc: 0.9350\n"
          ],
          "name": "stdout"
        },
        {
          "output_type": "execute_result",
          "data": {
            "text/plain": [
              "<keras.callbacks.History at 0x7fae1fcde4a8>"
            ]
          },
          "metadata": {
            "tags": []
          },
          "execution_count": 9
        }
      ]
    },
    {
      "metadata": {
        "id": "GRSLHFbsc84x",
        "colab_type": "code",
        "colab": {}
      },
      "cell_type": "code",
      "source": [
        "model.save_weights('lenets_1.h5')"
      ],
      "execution_count": 0,
      "outputs": []
    },
    {
      "metadata": {
        "id": "X9yeNxGMgbTZ",
        "colab_type": "code",
        "outputId": "f3feac1e-3012-4d7c-8919-783d4c3e5861",
        "colab": {
          "base_uri": "https://localhost:8080/",
          "height": 34
        }
      },
      "cell_type": "code",
      "source": [
        "import os\n",
        "os.listdir()"
      ],
      "execution_count": 0,
      "outputs": [
        {
          "output_type": "execute_result",
          "data": {
            "text/plain": [
              "['.config', 'gdrive', 'lenets_1.h5', 'sample_data']"
            ]
          },
          "metadata": {
            "tags": []
          },
          "execution_count": 11
        }
      ]
    },
    {
      "metadata": {
        "id": "8ARwbTgpgfCo",
        "colab_type": "code",
        "colab": {}
      },
      "cell_type": "code",
      "source": [
        "from google.colab import files\n",
        "files.download('lenets_1.h5')"
      ],
      "execution_count": 0,
      "outputs": []
    }
  ]
}